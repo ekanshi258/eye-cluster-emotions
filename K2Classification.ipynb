{
  "nbformat": 4,
  "nbformat_minor": 0,
  "metadata": {
    "colab": {
      "name": "K2Classification.ipynb",
      "provenance": [],
      "collapsed_sections": [],
      "authorship_tag": "ABX9TyOT4+EhUm5omqRyR6zb8jem",
      "include_colab_link": true
    },
    "kernelspec": {
      "name": "python3",
      "display_name": "Python 3"
    }
  },
  "cells": [
    {
      "cell_type": "markdown",
      "metadata": {
        "id": "view-in-github",
        "colab_type": "text"
      },
      "source": [
        "<a href=\"https://colab.research.google.com/github/ekanshi258/eye-cluster-emotions/blob/master/K2Classification.ipynb\" target=\"_parent\"><img src=\"https://colab.research.google.com/assets/colab-badge.svg\" alt=\"Open In Colab\"/></a>"
      ]
    },
    {
      "cell_type": "markdown",
      "metadata": {
        "id": "WxZGLUIqaFlQ",
        "colab_type": "text"
      },
      "source": [
        "Here, we will be training and testing several Classifiers on the clustered features resulting from the KMeans clustering process, when K=2."
      ]
    },
    {
      "cell_type": "code",
      "metadata": {
        "id": "PNM6QjJZCz4l",
        "colab_type": "code",
        "colab": {}
      },
      "source": [
        "import pandas as pd\n",
        "from sklearn.ensemble import AdaBoostClassifier as ABC\n",
        "from sklearn.model_selection import train_test_split, GridSearchCV\n",
        "import numpy as np"
      ],
      "execution_count": null,
      "outputs": []
    },
    {
      "cell_type": "code",
      "metadata": {
        "id": "W7SaJV2yDdY6",
        "colab_type": "code",
        "colab": {}
      },
      "source": [
        "df = pd.read_csv('k2means_eye.csv')\n",
        "x = df.drop(columns=['emotion', 'Unnamed: 0'])\n",
        "x = x.to_numpy()\n",
        "y = np.array(df['emotion'])"
      ],
      "execution_count": null,
      "outputs": []
    },
    {
      "cell_type": "code",
      "metadata": {
        "id": "ZwRoBvlOEzUQ",
        "colab_type": "code",
        "colab": {}
      },
      "source": [
        "# Train Test Split:\n",
        "xtrain, xtest, ytrain,ytest = train_test_split(x,y,random_state = 42, stratify = y)\n"
      ],
      "execution_count": null,
      "outputs": []
    },
    {
      "cell_type": "markdown",
      "metadata": {
        "id": "rWHTPX-3F6_L",
        "colab_type": "text"
      },
      "source": [
        "Below snippet shows that there are 82 samples in the Test set, which means 245 samples are in the training set."
      ]
    },
    {
      "cell_type": "code",
      "metadata": {
        "id": "X7MlN3ClFrAS",
        "colab_type": "code",
        "colab": {
          "base_uri": "https://localhost:8080/",
          "height": 34
        },
        "outputId": "91372c1c-8e12-4a37-a9b5-e8cdfd55310d"
      },
      "source": [
        "xtest.shape"
      ],
      "execution_count": null,
      "outputs": [
        {
          "output_type": "execute_result",
          "data": {
            "text/plain": [
              "(82, 2)"
            ]
          },
          "metadata": {
            "tags": []
          },
          "execution_count": 12
        }
      ]
    },
    {
      "cell_type": "markdown",
      "metadata": {
        "id": "34GIAl7tDftq",
        "colab_type": "text"
      },
      "source": [
        "**Ada Boost Classifier:**  \n",
        "Base Classifier: Decision Tree\n",
        "\n"
      ]
    },
    {
      "cell_type": "code",
      "metadata": {
        "id": "pLMIchRoImGm",
        "colab_type": "code",
        "colab": {
          "base_uri": "https://localhost:8080/",
          "height": 34
        },
        "outputId": "c65c690e-dffa-45b4-fe9c-3bbc1cba159c"
      },
      "source": [
        "from sklearn.pipeline import Pipeline\n",
        "pipe = Pipeline([('clf',ABC())])\n",
        "params = {'clf__n_estimators':[20, 30, 50], 'clf__learning_rate':[0.125, 0.25, 0.5, 0.75]}\n",
        "gs = GridSearchCV(pipe, param_grid = params, cv = 5)\n",
        "gs.fit(xtrain,ytrain)\n",
        "\n",
        "print(gs.best_params_)"
      ],
      "execution_count": null,
      "outputs": [
        {
          "output_type": "stream",
          "text": [
            "{'clf__learning_rate': 0.125, 'clf__n_estimators': 30}\n"
          ],
          "name": "stdout"
        }
      ]
    },
    {
      "cell_type": "markdown",
      "metadata": {
        "id": "ARiY4CPjJZdC",
        "colab_type": "text"
      },
      "source": [
        "The above Grid Search on parameters had given us:  \n",
        "estimators = 30  \n",
        "learning rate = 0.125  "
      ]
    },
    {
      "cell_type": "code",
      "metadata": {
        "id": "gB2sYhrOJx4d",
        "colab_type": "code",
        "colab": {
          "base_uri": "https://localhost:8080/",
          "height": 34
        },
        "outputId": "456df97e-d12d-4383-8c0c-f199190407e2"
      },
      "source": [
        "clf = ABC( n_estimators= 30,learning_rate=0.125)\n",
        "clf.fit(xtrain, ytrain)\n",
        "pred = clf.predict(xtest)\n",
        "clf.score(xtest,ytest)"
      ],
      "execution_count": null,
      "outputs": [
        {
          "output_type": "execute_result",
          "data": {
            "text/plain": [
              "0.43902439024390244"
            ]
          },
          "metadata": {
            "tags": []
          },
          "execution_count": 20
        }
      ]
    },
    {
      "cell_type": "markdown",
      "metadata": {
        "id": "B1k3J5V-Jzdf",
        "colab_type": "text"
      },
      "source": [
        "Thus, AdaBoost Classifier gives the best score of `43.90%` only.\n",
        "\n",
        "Let's maintain a dataframe with results so that we can save them in a file."
      ]
    },
    {
      "cell_type": "code",
      "metadata": {
        "id": "yhuLtSf5KBNN",
        "colab_type": "code",
        "colab": {}
      },
      "source": [
        "result_df = pd.DataFrame(columns=['classifier','k2score'])\n",
        "result_df = result_df.append(pd.DataFrame({\n",
        "    'classifier':['ABC'],\n",
        "    'k2score':[43.90]\n",
        "}), ignore_index=True)"
      ],
      "execution_count": null,
      "outputs": []
    },
    {
      "cell_type": "markdown",
      "metadata": {
        "id": "7UVSViaqLZPW",
        "colab_type": "text"
      },
      "source": [
        "\n",
        "\n",
        "---\n",
        "\n",
        "\n",
        "**Decision Tree Classifier:**\n"
      ]
    },
    {
      "cell_type": "code",
      "metadata": {
        "id": "r-N_Aqy9Lu-G",
        "colab_type": "code",
        "colab": {
          "base_uri": "https://localhost:8080/",
          "height": 34
        },
        "outputId": "39bf42a6-432d-4147-9b63-9fbb3b3cad40"
      },
      "source": [
        "from sklearn.tree import DecisionTreeClassifier as DTC\n",
        "pipe = Pipeline([('clf',DTC())])\n",
        "params = {'clf__criterion':['gini', 'entropy']}\n",
        "gs = GridSearchCV(pipe, param_grid = params, cv = 5)\n",
        "gs.fit(xtrain,ytrain)\n",
        "\n",
        "print(gs.best_params_)"
      ],
      "execution_count": null,
      "outputs": [
        {
          "output_type": "stream",
          "text": [
            "{'clf__criterion': 'gini'}\n"
          ],
          "name": "stdout"
        }
      ]
    },
    {
      "cell_type": "markdown",
      "metadata": {
        "id": "EgnOLh93MPD-",
        "colab_type": "text"
      },
      "source": [
        "Best Split Criterion returned by the Grid Search: `gini`, which is incidentally, also the default criterion employed by `sklearn`"
      ]
    },
    {
      "cell_type": "code",
      "metadata": {
        "id": "CDQwaYM8MOp0",
        "colab_type": "code",
        "colab": {
          "base_uri": "https://localhost:8080/",
          "height": 34
        },
        "outputId": "1af4f80a-fed6-428f-bafb-c6548e6961c7"
      },
      "source": [
        "clf = DTC()\n",
        "clf.fit(xtrain, ytrain)\n",
        "clf.score(xtest,ytest)"
      ],
      "execution_count": null,
      "outputs": [
        {
          "output_type": "execute_result",
          "data": {
            "text/plain": [
              "0.6585365853658537"
            ]
          },
          "metadata": {
            "tags": []
          },
          "execution_count": 23
        }
      ]
    },
    {
      "cell_type": "markdown",
      "metadata": {
        "id": "DNca6mh_MwyH",
        "colab_type": "text"
      },
      "source": [
        "Best Score returned by DTc is `65.85%`. Making a note of it:"
      ]
    },
    {
      "cell_type": "code",
      "metadata": {
        "id": "h1rs_utONdUn",
        "colab_type": "code",
        "colab": {}
      },
      "source": [
        "result_df = result_df.append(pd.DataFrame({\n",
        "    'classifier':['DTC'],\n",
        "    'k2score':[65.85]\n",
        "}), ignore_index=True)\n",
        "result_df"
      ],
      "execution_count": null,
      "outputs": []
    },
    {
      "cell_type": "markdown",
      "metadata": {
        "id": "KSxWzo53NpZO",
        "colab_type": "text"
      },
      "source": [
        "\n",
        "\n",
        "---\n",
        "\n",
        "\n",
        "**Gradient Boost Classifier**  \n",
        "uses Regression Trees  \n",
        "using `max_features` = `'sqrt'` that means, the number of features to consider when looking for the best split will be `sqrt(n_features)`."
      ]
    },
    {
      "cell_type": "code",
      "metadata": {
        "id": "9YW8pSZNNw5M",
        "colab_type": "code",
        "colab": {
          "base_uri": "https://localhost:8080/",
          "height": 34
        },
        "outputId": "e3cd68a7-8b78-40ac-be2a-6ce89cf121a4"
      },
      "source": [
        "from sklearn.ensemble import GradientBoostingClassifier as GBC\n",
        "pipe = Pipeline([('clf',GBC())])\n",
        "params = {'clf__learning_rate':[0.125, 0.25, 0.5, 0.75], 'clf__n_estimators':[20, 30, 50]}\n",
        "gs = GridSearchCV(pipe, param_grid = params, cv = 5)\n",
        "gs.fit(xtrain,ytrain)\n",
        "\n",
        "print(gs.best_params_)"
      ],
      "execution_count": null,
      "outputs": [
        {
          "output_type": "stream",
          "text": [
            "{'clf__learning_rate': 0.5, 'clf__n_estimators': 50}\n"
          ],
          "name": "stdout"
        }
      ]
    },
    {
      "cell_type": "markdown",
      "metadata": {
        "id": "1H0fYD70Phv6",
        "colab_type": "text"
      },
      "source": [
        "Since Gridsearch returned 0.5 as the optimal learning rate paired with 50 as the count of estimators, we will go ahead and use these parameter values to check the classification score:"
      ]
    },
    {
      "cell_type": "code",
      "metadata": {
        "id": "ddEnNSB1PhSB",
        "colab_type": "code",
        "colab": {
          "base_uri": "https://localhost:8080/",
          "height": 34
        },
        "outputId": "7ce3e537-da8a-4353-a537-414798cc6bae"
      },
      "source": [
        "clf = GBC(learning_rate=0.5, n_estimators= 50, max_features='sqrt')\n",
        "clf.fit(xtrain, ytrain)\n",
        "clf.score(xtest,ytest)"
      ],
      "execution_count": null,
      "outputs": [
        {
          "output_type": "execute_result",
          "data": {
            "text/plain": [
              "0.6219512195121951"
            ]
          },
          "metadata": {
            "tags": []
          },
          "execution_count": 35
        }
      ]
    },
    {
      "cell_type": "markdown",
      "metadata": {
        "id": "r2FFxyA0QFZc",
        "colab_type": "text"
      },
      "source": [
        "GBC performed with an accuracy of about 62.20%. Saving result:"
      ]
    },
    {
      "cell_type": "code",
      "metadata": {
        "id": "D8KPV6CCQPbv",
        "colab_type": "code",
        "colab": {}
      },
      "source": [
        "result_df = result_df.append(pd.DataFrame({\n",
        "    'classifier':['GBC'],\n",
        "    'k2score':[62.20]\n",
        "}), ignore_index=True)\n",
        "result_df"
      ],
      "execution_count": null,
      "outputs": []
    },
    {
      "cell_type": "markdown",
      "metadata": {
        "id": "2wsD3qRMQyg5",
        "colab_type": "text"
      },
      "source": [
        "\n",
        "\n",
        "---\n",
        "\n",
        "**K-Nearest Neighbors Classification**  \n",
        "Distance Measure: Euclidean Distance (L2 Norm)"
      ]
    },
    {
      "cell_type": "code",
      "metadata": {
        "id": "dX1JgkhMQ8Ar",
        "colab_type": "code",
        "colab": {
          "base_uri": "https://localhost:8080/",
          "height": 34
        },
        "outputId": "f452d11c-25b9-43bd-b7e4-7d8523fd02b0"
      },
      "source": [
        "from sklearn.neighbors import KNeighborsClassifier as KNC\n",
        "pipe = Pipeline([('clf',KNC())])\n",
        "params = {'clf__n_neighbors':[5,7,10,15,20]}\n",
        "gs = GridSearchCV(pipe, param_grid = params, cv = 5)\n",
        "gs.fit(xtrain,ytrain)\n",
        "\n",
        "print(gs.best_params_)"
      ],
      "execution_count": null,
      "outputs": [
        {
          "output_type": "stream",
          "text": [
            "{'clf__n_neighbors': 5}\n"
          ],
          "name": "stdout"
        }
      ]
    },
    {
      "cell_type": "markdown",
      "metadata": {
        "id": "49VPakgWTlQv",
        "colab_type": "text"
      },
      "source": [
        "Gridsearch return 5 as the optimal number of neighbors to consider. "
      ]
    },
    {
      "cell_type": "code",
      "metadata": {
        "id": "QWSEdmE1SWPF",
        "colab_type": "code",
        "colab": {
          "base_uri": "https://localhost:8080/",
          "height": 34
        },
        "outputId": "87a4151c-56f5-43a0-bc3e-9b4c46d7a391"
      },
      "source": [
        "clf = KNC(n_neighbors = 5)\n",
        "clf.fit(xtrain, ytrain)\n",
        "clf.score(xtest,ytest)"
      ],
      "execution_count": null,
      "outputs": [
        {
          "output_type": "execute_result",
          "data": {
            "text/plain": [
              "0.6097560975609756"
            ]
          },
          "metadata": {
            "tags": []
          },
          "execution_count": 38
        }
      ]
    },
    {
      "cell_type": "markdown",
      "metadata": {
        "id": "B4YEW5HMSf5F",
        "colab_type": "text"
      },
      "source": [
        "KNN gives a performance of about `60.98%`. Saving this result:"
      ]
    },
    {
      "cell_type": "code",
      "metadata": {
        "id": "uXcyWGJHSqze",
        "colab_type": "code",
        "colab": {}
      },
      "source": [
        "result_df = result_df.append(pd.DataFrame({\n",
        "    'classifier':['KNN'],\n",
        "    'k2score':[60.98]\n",
        "}), ignore_index=True)\n",
        "result_df"
      ],
      "execution_count": null,
      "outputs": []
    },
    {
      "cell_type": "markdown",
      "metadata": {
        "id": "XQtlCXADTMxO",
        "colab_type": "text"
      },
      "source": [
        "\n",
        "\n",
        "---\n",
        "\n",
        "**Multinomial Naive Bayes**"
      ]
    },
    {
      "cell_type": "code",
      "metadata": {
        "id": "N7cuJfd5Ta83",
        "colab_type": "code",
        "colab": {
          "base_uri": "https://localhost:8080/",
          "height": 34
        },
        "outputId": "97d1162e-f443-48b5-f2c5-c72415395799"
      },
      "source": [
        "from sklearn.naive_bayes import MultinomialNB as MNB\n",
        "pipe = Pipeline([('clf',MNB())])\n",
        "params = {'clf__alpha':[0.05,0.1,0.5,1,3]}\n",
        "gs = GridSearchCV(pipe, param_grid = params, cv = 5)\n",
        "gs.fit(xtrain,ytrain)\n",
        "\n",
        "print(gs.best_params_)"
      ],
      "execution_count": null,
      "outputs": [
        {
          "output_type": "stream",
          "text": [
            "{'clf__alpha': 0.05}\n"
          ],
          "name": "stdout"
        }
      ]
    },
    {
      "cell_type": "markdown",
      "metadata": {
        "id": "nv-tXF_GUgsu",
        "colab_type": "text"
      },
      "source": [
        "GridSearch results in optimal Laplacian Smoothing factor alpha value as `0.05`"
      ]
    },
    {
      "cell_type": "code",
      "metadata": {
        "id": "Gprpt-iIUgGG",
        "colab_type": "code",
        "colab": {
          "base_uri": "https://localhost:8080/",
          "height": 34
        },
        "outputId": "0b6c479d-9834-4c8c-93dc-1643884bafe9"
      },
      "source": [
        "clf = MNB(alpha=0.05)\n",
        "clf.fit(xtrain, ytrain)\n",
        "clf.score(xtest,ytest)"
      ],
      "execution_count": null,
      "outputs": [
        {
          "output_type": "execute_result",
          "data": {
            "text/plain": [
              "0.25609756097560976"
            ]
          },
          "metadata": {
            "tags": []
          },
          "execution_count": 45
        }
      ]
    },
    {
      "cell_type": "markdown",
      "metadata": {
        "id": "VeyhtFN5U7Cx",
        "colab_type": "text"
      },
      "source": [
        "MNB Performs very unsatifactorily, with the score lying just above the Baseline Score, which is 25.38%. However, we will keep a note of this result too."
      ]
    },
    {
      "cell_type": "code",
      "metadata": {
        "id": "rBEskYGeVX6v",
        "colab_type": "code",
        "colab": {}
      },
      "source": [
        "result_df = result_df.append(pd.DataFrame({\n",
        "    'classifier':['MNB'],\n",
        "    'k2score':[25.61]\n",
        "}), ignore_index=True)\n",
        "result_df"
      ],
      "execution_count": null,
      "outputs": []
    },
    {
      "cell_type": "markdown",
      "metadata": {
        "id": "FhnVeV-XVhCX",
        "colab_type": "text"
      },
      "source": [
        "\n",
        "\n",
        "---\n",
        "\n",
        "**Random Forest Classifier**  \n",
        "Max Features: `sqrt` (default)  \n",
        "split: `gini` (default)"
      ]
    },
    {
      "cell_type": "code",
      "metadata": {
        "id": "0uBd_teKWe6F",
        "colab_type": "code",
        "colab": {
          "base_uri": "https://localhost:8080/",
          "height": 34
        },
        "outputId": "8e184622-629f-48b9-f849-f69e3453c7ea"
      },
      "source": [
        "from sklearn.ensemble import RandomForestClassifier as RFC\n",
        "pipe = Pipeline([('clf',RFC())])\n",
        "params = {'clf__n_estimators':[10,20,30,50]}\n",
        "gs = GridSearchCV(pipe, param_grid = params, cv = 5)\n",
        "gs.fit(xtrain,ytrain)\n",
        "\n",
        "print(gs.best_params_)"
      ],
      "execution_count": null,
      "outputs": [
        {
          "output_type": "stream",
          "text": [
            "{'clf__n_estimators': 10}\n"
          ],
          "name": "stdout"
        }
      ]
    },
    {
      "cell_type": "markdown",
      "metadata": {
        "id": "ZBmn_EubWvEp",
        "colab_type": "text"
      },
      "source": [
        "Using 10 estimators:"
      ]
    },
    {
      "cell_type": "code",
      "metadata": {
        "id": "F2vJXhFrWyBP",
        "colab_type": "code",
        "colab": {
          "base_uri": "https://localhost:8080/",
          "height": 34
        },
        "outputId": "06366a45-baf9-4692-9191-1c56f4dd5ccf"
      },
      "source": [
        "clf = RFC(n_estimators=10)\n",
        "clf.fit(xtrain, ytrain)\n",
        "clf.score(xtest,ytest)"
      ],
      "execution_count": null,
      "outputs": [
        {
          "output_type": "execute_result",
          "data": {
            "text/plain": [
              "0.6707317073170732"
            ]
          },
          "metadata": {
            "tags": []
          },
          "execution_count": 48
        }
      ]
    },
    {
      "cell_type": "markdown",
      "metadata": {
        "id": "Ua-Sj888W5rY",
        "colab_type": "text"
      },
      "source": [
        "RFC has given a performance score of `67.07%` which is the best so far."
      ]
    },
    {
      "cell_type": "code",
      "metadata": {
        "id": "IXeH97xbXAmi",
        "colab_type": "code",
        "colab": {}
      },
      "source": [
        "result_df = result_df.append(pd.DataFrame({\n",
        "    'classifier':['RFC'],\n",
        "    'k2score':[67.07]\n",
        "}), ignore_index=True)\n",
        "result_df"
      ],
      "execution_count": null,
      "outputs": []
    },
    {
      "cell_type": "markdown",
      "metadata": {
        "id": "dQlX3KcXXL8L",
        "colab_type": "text"
      },
      "source": [
        "Let's try one last classifier:\n",
        "\n",
        "\n",
        "---\n",
        "\n",
        "\n",
        "**Support Vector Classification**  \n",
        "using Radial Basis Function (RBF) Kernel"
      ]
    },
    {
      "cell_type": "code",
      "metadata": {
        "id": "joRyNz1hXjyP",
        "colab_type": "code",
        "colab": {
          "base_uri": "https://localhost:8080/",
          "height": 34
        },
        "outputId": "9a0640b0-7bc4-4751-def6-bd5d302fcdb9"
      },
      "source": [
        "from sklearn.svm import SVC\n",
        "pipe = Pipeline([('clf',SVC())])\n",
        "params = {'clf__gamma':[0.5,1,2,3], 'clf__C':[1,2,3]}\n",
        "gs = GridSearchCV(pipe, param_grid = params, cv = 5)\n",
        "gs.fit(xtrain,ytrain)\n",
        "\n",
        "print(gs.best_params_)"
      ],
      "execution_count": null,
      "outputs": [
        {
          "output_type": "stream",
          "text": [
            "{'clf__C': 1, 'clf__gamma': 0.5}\n"
          ],
          "name": "stdout"
        }
      ]
    },
    {
      "cell_type": "markdown",
      "metadata": {
        "id": "1D7Rd7KpZETm",
        "colab_type": "text"
      },
      "source": [
        "Gridsearch returned `C = 1` (default value in sklearn) and `gamma = 0.5`"
      ]
    },
    {
      "cell_type": "code",
      "metadata": {
        "id": "pwvhs64bZNb0",
        "colab_type": "code",
        "colab": {
          "base_uri": "https://localhost:8080/",
          "height": 34
        },
        "outputId": "2f0b5148-dd5e-4bbf-b480-e76f83e2c316"
      },
      "source": [
        "clf = SVC(gamma = 0.5, C = 1)\n",
        "clf.fit(xtrain, ytrain)\n",
        "clf.score(xtest,ytest)"
      ],
      "execution_count": null,
      "outputs": [
        {
          "output_type": "execute_result",
          "data": {
            "text/plain": [
              "0.4146341463414634"
            ]
          },
          "metadata": {
            "tags": []
          },
          "execution_count": 56
        }
      ]
    },
    {
      "cell_type": "markdown",
      "metadata": {
        "id": "7O8sJlJaZVGB",
        "colab_type": "text"
      },
      "source": [
        "SVM has not performed very satisfactorily, giving a score of `41.46%` only.  "
      ]
    },
    {
      "cell_type": "code",
      "metadata": {
        "id": "WJaLNDEuZdxg",
        "colab_type": "code",
        "colab": {
          "base_uri": "https://localhost:8080/",
          "height": 266
        },
        "outputId": "8bdb6b57-2986-437a-e4b1-7d4a43c046dd"
      },
      "source": [
        "result_df = result_df.append(pd.DataFrame({\n",
        "    'classifier':['SVC'],\n",
        "    'k2score':[41.46]\n",
        "}), ignore_index=True)\n",
        "result_df"
      ],
      "execution_count": null,
      "outputs": [
        {
          "output_type": "execute_result",
          "data": {
            "text/html": [
              "<div>\n",
              "<style scoped>\n",
              "    .dataframe tbody tr th:only-of-type {\n",
              "        vertical-align: middle;\n",
              "    }\n",
              "\n",
              "    .dataframe tbody tr th {\n",
              "        vertical-align: top;\n",
              "    }\n",
              "\n",
              "    .dataframe thead th {\n",
              "        text-align: right;\n",
              "    }\n",
              "</style>\n",
              "<table border=\"1\" class=\"dataframe\">\n",
              "  <thead>\n",
              "    <tr style=\"text-align: right;\">\n",
              "      <th></th>\n",
              "      <th>classifier</th>\n",
              "      <th>k2score</th>\n",
              "    </tr>\n",
              "  </thead>\n",
              "  <tbody>\n",
              "    <tr>\n",
              "      <th>0</th>\n",
              "      <td>ABC</td>\n",
              "      <td>43.90</td>\n",
              "    </tr>\n",
              "    <tr>\n",
              "      <th>1</th>\n",
              "      <td>DTC</td>\n",
              "      <td>65.85</td>\n",
              "    </tr>\n",
              "    <tr>\n",
              "      <th>2</th>\n",
              "      <td>GBC</td>\n",
              "      <td>62.20</td>\n",
              "    </tr>\n",
              "    <tr>\n",
              "      <th>3</th>\n",
              "      <td>KNN</td>\n",
              "      <td>60.98</td>\n",
              "    </tr>\n",
              "    <tr>\n",
              "      <th>4</th>\n",
              "      <td>MNB</td>\n",
              "      <td>25.61</td>\n",
              "    </tr>\n",
              "    <tr>\n",
              "      <th>5</th>\n",
              "      <td>RFC</td>\n",
              "      <td>67.07</td>\n",
              "    </tr>\n",
              "    <tr>\n",
              "      <th>6</th>\n",
              "      <td>SVC</td>\n",
              "      <td>41.46</td>\n",
              "    </tr>\n",
              "  </tbody>\n",
              "</table>\n",
              "</div>"
            ],
            "text/plain": [
              "  classifier  k2score\n",
              "0        ABC    43.90\n",
              "1        DTC    65.85\n",
              "2        GBC    62.20\n",
              "3        KNN    60.98\n",
              "4        MNB    25.61\n",
              "5        RFC    67.07\n",
              "6        SVC    41.46"
            ]
          },
          "metadata": {
            "tags": []
          },
          "execution_count": 57
        }
      ]
    },
    {
      "cell_type": "markdown",
      "metadata": {
        "id": "3OCXLl8VZoQY",
        "colab_type": "text"
      },
      "source": [
        "We will save these results in a CSV to be used later for comparision with results of K means clustering with K=3."
      ]
    },
    {
      "cell_type": "code",
      "metadata": {
        "id": "fGSCNtmrZzcd",
        "colab_type": "code",
        "colab": {}
      },
      "source": [
        "result_df.to_csv('results_cluster.csv')"
      ],
      "execution_count": null,
      "outputs": []
    }
  ]
}
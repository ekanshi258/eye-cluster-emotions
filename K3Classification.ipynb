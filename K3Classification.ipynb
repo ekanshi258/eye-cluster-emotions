{
  "nbformat": 4,
  "nbformat_minor": 0,
  "metadata": {
    "colab": {
      "name": "K3Classification.ipynb",
      "provenance": [],
      "collapsed_sections": [],
      "toc_visible": true,
      "authorship_tag": "ABX9TyMoW9egEjmQzrXYzqSRcmNr",
      "include_colab_link": true
    },
    "kernelspec": {
      "name": "python3",
      "display_name": "Python 3"
    }
  },
  "cells": [
    {
      "cell_type": "markdown",
      "metadata": {
        "id": "view-in-github",
        "colab_type": "text"
      },
      "source": [
        "<a href=\"https://colab.research.google.com/github/ekanshi258/eye-cluster-emotions/blob/master/K3Classification.ipynb\" target=\"_parent\"><img src=\"https://colab.research.google.com/assets/colab-badge.svg\" alt=\"Open In Colab\"/></a>"
      ]
    },
    {
      "cell_type": "markdown",
      "metadata": {
        "id": "1gsBnR31y5XB",
        "colab_type": "text"
      },
      "source": [
        "Here, we will classify images based on the clustered features obtained from K means clustering with K=3."
      ]
    },
    {
      "cell_type": "code",
      "metadata": {
        "id": "6aSOk-XHypK1",
        "colab_type": "code",
        "colab": {}
      },
      "source": [
        "import pandas as pd\n",
        "from sklearn.ensemble import AdaBoostClassifier as ABC\n",
        "from sklearn.model_selection import train_test_split, GridSearchCV\n",
        "import numpy as np"
      ],
      "execution_count": null,
      "outputs": []
    },
    {
      "cell_type": "code",
      "metadata": {
        "id": "-s3ohGRTzKiy",
        "colab_type": "code",
        "colab": {}
      },
      "source": [
        "df = pd.read_csv('k3means_eye.csv')\n",
        "x = df.drop(columns=['emotion', 'Unnamed: 0'])\n",
        "x = x.to_numpy()\n",
        "y = np.array(df['emotion'])"
      ],
      "execution_count": null,
      "outputs": []
    },
    {
      "cell_type": "code",
      "metadata": {
        "id": "zracNt8ozY1m",
        "colab_type": "code",
        "colab": {
          "base_uri": "https://localhost:8080/",
          "height": 34
        },
        "outputId": "4f034910-5e0e-4494-dc91-90712d641be8"
      },
      "source": [
        "# Train Test Split:\n",
        "xtrain, xtest, ytrain,ytest = train_test_split(x,y,random_state = 42, stratify = y)\n",
        "xtest.shape"
      ],
      "execution_count": null,
      "outputs": [
        {
          "output_type": "execute_result",
          "data": {
            "text/plain": [
              "(82, 3)"
            ]
          },
          "metadata": {
            "tags": []
          },
          "execution_count": 7
        }
      ]
    },
    {
      "cell_type": "markdown",
      "metadata": {
        "id": "Jnl_FHYQzqed",
        "colab_type": "text"
      },
      "source": [
        "The dataset is divided into training and testing sets. The above result shows that the test set contains 82 samples, so the training set will contain 245."
      ]
    },
    {
      "cell_type": "markdown",
      "metadata": {
        "id": "ThPd-y3-z6ua",
        "colab_type": "text"
      },
      "source": [
        "**Ada Boost Classifier:**  \n",
        "Base Classifier: Decision Tree"
      ]
    },
    {
      "cell_type": "code",
      "metadata": {
        "id": "eSgVfkTPz5cU",
        "colab_type": "code",
        "colab": {
          "base_uri": "https://localhost:8080/",
          "height": 34
        },
        "outputId": "91692b11-6552-4a21-d8be-7ec8ec02d915"
      },
      "source": [
        "# Grid Search:\n",
        "from sklearn.pipeline import Pipeline\n",
        "pipe = Pipeline([('clf',ABC())])\n",
        "params = {'clf__n_estimators':[20, 30, 50], 'clf__learning_rate':[0.125, 0.25, 0.5, 0.75]}\n",
        "gs = GridSearchCV(pipe, param_grid = params, cv = 5)\n",
        "gs.fit(xtrain,ytrain)\n",
        "\n",
        "print(gs.best_params_)"
      ],
      "execution_count": null,
      "outputs": [
        {
          "output_type": "stream",
          "text": [
            "{'clf__learning_rate': 0.125, 'clf__n_estimators': 30}\n"
          ],
          "name": "stdout"
        }
      ]
    },
    {
      "cell_type": "markdown",
      "metadata": {
        "id": "2x98mxzr0IPo",
        "colab_type": "text"
      },
      "source": [
        "Using the above results as parameters, we will train and test as follows: "
      ]
    },
    {
      "cell_type": "code",
      "metadata": {
        "id": "8WEbGamo0Pgk",
        "colab_type": "code",
        "colab": {
          "base_uri": "https://localhost:8080/",
          "height": 34
        },
        "outputId": "7ccfd916-0dcb-41e8-835b-b18c09a29cb4"
      },
      "source": [
        "clf = ABC( n_estimators= 30,learning_rate=0.125)\n",
        "clf.fit(xtrain, ytrain)\n",
        "pred = clf.predict(xtest)\n",
        "clf.score(xtest,ytest)"
      ],
      "execution_count": null,
      "outputs": [
        {
          "output_type": "execute_result",
          "data": {
            "text/plain": [
              "0.47560975609756095"
            ]
          },
          "metadata": {
            "tags": []
          },
          "execution_count": 9
        }
      ]
    },
    {
      "cell_type": "markdown",
      "metadata": {
        "id": "Zo-439ep0WKW",
        "colab_type": "text"
      },
      "source": [
        "Thus, AdaBoost Classifier gives the best score of `47.56%`, which is better than that with k=2 clustering, but not significantly.\n",
        "\n",
        "Let's maintain a dataframe with results so that we can add them in the results file as done for K=2."
      ]
    },
    {
      "cell_type": "code",
      "metadata": {
        "id": "3wj7QpQv0jSX",
        "colab_type": "code",
        "colab": {
          "base_uri": "https://localhost:8080/",
          "height": 80
        },
        "outputId": "3df95956-70e2-48bb-bc21-c3309cf1e428"
      },
      "source": [
        "result_df = pd.DataFrame(columns=['classifier','k3score'])\n",
        "result_df = result_df.append(pd.DataFrame({\n",
        "    'classifier':['ABC'],\n",
        "    'k3score':[47.56]\n",
        "}), ignore_index=True)\n",
        "result_df"
      ],
      "execution_count": null,
      "outputs": [
        {
          "output_type": "execute_result",
          "data": {
            "text/html": [
              "<div>\n",
              "<style scoped>\n",
              "    .dataframe tbody tr th:only-of-type {\n",
              "        vertical-align: middle;\n",
              "    }\n",
              "\n",
              "    .dataframe tbody tr th {\n",
              "        vertical-align: top;\n",
              "    }\n",
              "\n",
              "    .dataframe thead th {\n",
              "        text-align: right;\n",
              "    }\n",
              "</style>\n",
              "<table border=\"1\" class=\"dataframe\">\n",
              "  <thead>\n",
              "    <tr style=\"text-align: right;\">\n",
              "      <th></th>\n",
              "      <th>classifier</th>\n",
              "      <th>k3score</th>\n",
              "    </tr>\n",
              "  </thead>\n",
              "  <tbody>\n",
              "    <tr>\n",
              "      <th>0</th>\n",
              "      <td>ABC</td>\n",
              "      <td>47.56</td>\n",
              "    </tr>\n",
              "  </tbody>\n",
              "</table>\n",
              "</div>"
            ],
            "text/plain": [
              "  classifier  k3score\n",
              "0        ABC    47.56"
            ]
          },
          "metadata": {
            "tags": []
          },
          "execution_count": 14
        }
      ]
    },
    {
      "cell_type": "markdown",
      "metadata": {
        "id": "EmYXrwza0wv-",
        "colab_type": "text"
      },
      "source": [
        "\n",
        "\n",
        "---\n",
        "\n",
        "\n",
        "**Decision Tree Classifier:**"
      ]
    },
    {
      "cell_type": "code",
      "metadata": {
        "id": "Uv3t1Qel0xkm",
        "colab_type": "code",
        "colab": {
          "base_uri": "https://localhost:8080/",
          "height": 34
        },
        "outputId": "b2cda275-93ce-46b8-acba-cc6c3a93e705"
      },
      "source": [
        "from sklearn.tree import DecisionTreeClassifier as DTC\n",
        "pipe = Pipeline([('clf',DTC())])\n",
        "params = {'clf__criterion':['gini', 'entropy']}\n",
        "gs = GridSearchCV(pipe, param_grid = params, cv = 5)\n",
        "gs.fit(xtrain,ytrain)\n",
        "\n",
        "print(gs.best_params_)"
      ],
      "execution_count": null,
      "outputs": [
        {
          "output_type": "stream",
          "text": [
            "{'clf__criterion': 'gini'}\n"
          ],
          "name": "stdout"
        }
      ]
    },
    {
      "cell_type": "markdown",
      "metadata": {
        "id": "L_JBVpwm01Nm",
        "colab_type": "text"
      },
      "source": [
        "Using `gini` as the split criterion:"
      ]
    },
    {
      "cell_type": "code",
      "metadata": {
        "id": "Om9r5z-L04Sx",
        "colab_type": "code",
        "colab": {
          "base_uri": "https://localhost:8080/",
          "height": 34
        },
        "outputId": "9eb68d62-fda9-4443-924f-05b65dba97ea"
      },
      "source": [
        "clf = DTC()\n",
        "clf.fit(xtrain, ytrain)\n",
        "clf.score(xtest,ytest)"
      ],
      "execution_count": null,
      "outputs": [
        {
          "output_type": "execute_result",
          "data": {
            "text/plain": [
              "0.6829268292682927"
            ]
          },
          "metadata": {
            "tags": []
          },
          "execution_count": 12
        }
      ]
    },
    {
      "cell_type": "markdown",
      "metadata": {
        "id": "6BINpt96091q",
        "colab_type": "text"
      },
      "source": [
        "Best Score returned by DTc is `68.29%`, again only slightly better than the k=2 clustering"
      ]
    },
    {
      "cell_type": "code",
      "metadata": {
        "id": "KF6ki9ji1GAV",
        "colab_type": "code",
        "colab": {}
      },
      "source": [
        "result_df = result_df.append(pd.DataFrame({\n",
        "    'classifier':['DTC'],\n",
        "    'k3score':[68.29]\n",
        "}), ignore_index=True)\n",
        "result_df"
      ],
      "execution_count": null,
      "outputs": []
    },
    {
      "cell_type": "markdown",
      "metadata": {
        "id": "aRm4GdTM1XMY",
        "colab_type": "text"
      },
      "source": [
        "\n",
        "\n",
        "---\n",
        "\n",
        "\n",
        "**Gradient Boost Classifier**  \n",
        "uses Regression Trees  \n",
        "using `max_features` = `'sqrt'` that means, the number of features to consider when looking for the best split will be `sqrt(n_features)`."
      ]
    },
    {
      "cell_type": "code",
      "metadata": {
        "id": "I_qRoQyM1Z-V",
        "colab_type": "code",
        "colab": {
          "base_uri": "https://localhost:8080/",
          "height": 34
        },
        "outputId": "bcdab2f6-ea15-4b12-9c1c-8b65cee14a76"
      },
      "source": [
        "from sklearn.ensemble import GradientBoostingClassifier as GBC\n",
        "pipe = Pipeline([('clf',GBC())])\n",
        "params = {'clf__learning_rate':[0.125, 0.25, 0.5, 0.75], 'clf__n_estimators':[20, 30, 50]}\n",
        "gs = GridSearchCV(pipe, param_grid = params, cv = 5)\n",
        "gs.fit(xtrain,ytrain)\n",
        "\n",
        "print(gs.best_params_)"
      ],
      "execution_count": null,
      "outputs": [
        {
          "output_type": "stream",
          "text": [
            "{'clf__learning_rate': 0.125, 'clf__n_estimators': 20}\n"
          ],
          "name": "stdout"
        }
      ]
    },
    {
      "cell_type": "markdown",
      "metadata": {
        "id": "h4Xfg4IX1tki",
        "colab_type": "text"
      },
      "source": [
        "Using the values of the parameters as returned b gridsearch above, we will go ahead and use these parameter values to check the classification score:"
      ]
    },
    {
      "cell_type": "code",
      "metadata": {
        "id": "_Zq86gvd1z7i",
        "colab_type": "code",
        "colab": {
          "base_uri": "https://localhost:8080/",
          "height": 34
        },
        "outputId": "d5229c7f-2e07-4004-8fdc-8e6ac18af862"
      },
      "source": [
        "clf = GBC(learning_rate=0.125, n_estimators= 20, max_features='sqrt')\n",
        "clf.fit(xtrain, ytrain)\n",
        "clf.score(xtest,ytest)"
      ],
      "execution_count": null,
      "outputs": [
        {
          "output_type": "execute_result",
          "data": {
            "text/plain": [
              "0.6219512195121951"
            ]
          },
          "metadata": {
            "tags": []
          },
          "execution_count": 17
        }
      ]
    },
    {
      "cell_type": "markdown",
      "metadata": {
        "id": "MiZuU9g31-GE",
        "colab_type": "text"
      },
      "source": [
        "GBC performed with an accuracy of about `62.20%`, which is the same as that obtained with the 2-means clustering."
      ]
    },
    {
      "cell_type": "code",
      "metadata": {
        "id": "YeF1PrPF2DKH",
        "colab_type": "code",
        "colab": {
          "base_uri": "https://localhost:8080/",
          "height": 142
        },
        "outputId": "f884a2e3-9d33-43bc-ef25-12c033124a3b"
      },
      "source": [
        "result_df = result_df.append(pd.DataFrame({\n",
        "    'classifier':['GBC'],\n",
        "    'k3score':[62.20]\n",
        "}), ignore_index=True)\n",
        "result_df"
      ],
      "execution_count": null,
      "outputs": [
        {
          "output_type": "execute_result",
          "data": {
            "text/html": [
              "<div>\n",
              "<style scoped>\n",
              "    .dataframe tbody tr th:only-of-type {\n",
              "        vertical-align: middle;\n",
              "    }\n",
              "\n",
              "    .dataframe tbody tr th {\n",
              "        vertical-align: top;\n",
              "    }\n",
              "\n",
              "    .dataframe thead th {\n",
              "        text-align: right;\n",
              "    }\n",
              "</style>\n",
              "<table border=\"1\" class=\"dataframe\">\n",
              "  <thead>\n",
              "    <tr style=\"text-align: right;\">\n",
              "      <th></th>\n",
              "      <th>classifier</th>\n",
              "      <th>k3score</th>\n",
              "    </tr>\n",
              "  </thead>\n",
              "  <tbody>\n",
              "    <tr>\n",
              "      <th>0</th>\n",
              "      <td>ABC</td>\n",
              "      <td>47.56</td>\n",
              "    </tr>\n",
              "    <tr>\n",
              "      <th>1</th>\n",
              "      <td>DTC</td>\n",
              "      <td>68.29</td>\n",
              "    </tr>\n",
              "    <tr>\n",
              "      <th>2</th>\n",
              "      <td>GBC</td>\n",
              "      <td>62.20</td>\n",
              "    </tr>\n",
              "  </tbody>\n",
              "</table>\n",
              "</div>"
            ],
            "text/plain": [
              "  classifier  k3score\n",
              "0        ABC    47.56\n",
              "1        DTC    68.29\n",
              "2        GBC    62.20"
            ]
          },
          "metadata": {
            "tags": []
          },
          "execution_count": 18
        }
      ]
    },
    {
      "cell_type": "markdown",
      "metadata": {
        "id": "pktR-pkn2K8m",
        "colab_type": "text"
      },
      "source": [
        "\n",
        "\n",
        "---\n",
        "\n",
        "**K-Nearest Neighbors Classification**  \n",
        "Distance Measure: Euclidean Distance (L2 Norm)"
      ]
    },
    {
      "cell_type": "code",
      "metadata": {
        "id": "HdyVW57M2NTN",
        "colab_type": "code",
        "colab": {
          "base_uri": "https://localhost:8080/",
          "height": 34
        },
        "outputId": "48980b7e-454d-44e4-9538-90f1c021dac8"
      },
      "source": [
        "from sklearn.neighbors import KNeighborsClassifier as KNC\n",
        "pipe = Pipeline([('clf',KNC())])\n",
        "params = {'clf__n_neighbors':[5,7,10,15,20]}\n",
        "gs = GridSearchCV(pipe, param_grid = params, cv = 5)\n",
        "gs.fit(xtrain,ytrain)\n",
        "\n",
        "print(gs.best_params_)"
      ],
      "execution_count": null,
      "outputs": [
        {
          "output_type": "stream",
          "text": [
            "{'clf__n_neighbors': 5}\n"
          ],
          "name": "stdout"
        }
      ]
    },
    {
      "cell_type": "code",
      "metadata": {
        "id": "0T_7hg8F2TC-",
        "colab_type": "code",
        "colab": {
          "base_uri": "https://localhost:8080/",
          "height": 34
        },
        "outputId": "48136ad0-dde1-4072-ddcf-1547445cf0b0"
      },
      "source": [
        "clf = KNC(n_neighbors = 5)\n",
        "clf.fit(xtrain, ytrain)\n",
        "clf.score(xtest,ytest)"
      ],
      "execution_count": null,
      "outputs": [
        {
          "output_type": "execute_result",
          "data": {
            "text/plain": [
              "0.6341463414634146"
            ]
          },
          "metadata": {
            "tags": []
          },
          "execution_count": 20
        }
      ]
    },
    {
      "cell_type": "markdown",
      "metadata": {
        "id": "Cy6W__U02W8W",
        "colab_type": "text"
      },
      "source": [
        "KNN gives a performance of about `63.41%`, again, slightly better than that the 2-means clustered features gave us. Saving this result in our dataframe:"
      ]
    },
    {
      "cell_type": "code",
      "metadata": {
        "id": "TllZ3zLO2f7Q",
        "colab_type": "code",
        "colab": {}
      },
      "source": [
        "result_df = result_df.append(pd.DataFrame({\n",
        "    'classifier':['KNN'],\n",
        "    'k3score':[63.41]\n",
        "}), ignore_index=True)\n",
        "result_df"
      ],
      "execution_count": null,
      "outputs": []
    },
    {
      "cell_type": "markdown",
      "metadata": {
        "id": "0HsZNo-Q2xnb",
        "colab_type": "text"
      },
      "source": [
        "\n",
        "\n",
        "---\n",
        "\n",
        "**Multinomial Naive Bayes**"
      ]
    },
    {
      "cell_type": "code",
      "metadata": {
        "id": "WQi3UrMh3PsB",
        "colab_type": "code",
        "colab": {
          "base_uri": "https://localhost:8080/",
          "height": 34
        },
        "outputId": "033ce7db-b346-405c-e0b5-0e0f5d58f3b0"
      },
      "source": [
        "from sklearn.naive_bayes import MultinomialNB as MNB\n",
        "pipe = Pipeline([('clf',MNB())])\n",
        "params = {'clf__alpha':[0.05,0.1,0.5,1,3]}\n",
        "gs = GridSearchCV(pipe, param_grid = params, cv = 5)\n",
        "gs.fit(xtrain,ytrain)\n",
        "\n",
        "print(gs.best_params_)"
      ],
      "execution_count": null,
      "outputs": [
        {
          "output_type": "stream",
          "text": [
            "{'clf__alpha': 0.05}\n"
          ],
          "name": "stdout"
        }
      ]
    },
    {
      "cell_type": "markdown",
      "metadata": {
        "id": "DPnvBjev3Vlf",
        "colab_type": "text"
      },
      "source": [
        "GridSearch results in optimal Laplacian Smoothing factor alpha value as `0.05`"
      ]
    },
    {
      "cell_type": "code",
      "metadata": {
        "id": "7bZip3LH3UBN",
        "colab_type": "code",
        "colab": {
          "base_uri": "https://localhost:8080/",
          "height": 34
        },
        "outputId": "fb81af3e-acb3-47d7-f5af-ef7d1dec832e"
      },
      "source": [
        "clf = MNB(alpha=0.05)\n",
        "clf.fit(xtrain, ytrain)\n",
        "clf.score(xtest,ytest)"
      ],
      "execution_count": null,
      "outputs": [
        {
          "output_type": "execute_result",
          "data": {
            "text/plain": [
              "0.25609756097560976"
            ]
          },
          "metadata": {
            "tags": []
          },
          "execution_count": 23
        }
      ]
    },
    {
      "cell_type": "markdown",
      "metadata": {
        "id": "DN9dK4Kr3aiU",
        "colab_type": "text"
      },
      "source": [
        "MNB Performs very unsatifactorily even with 3-means clustered features and an accuracy score equal to that of the 2-clustered features, with the score lying just above the Baseline Score, which is 25.38%. However, we will keep a note of this result too."
      ]
    },
    {
      "cell_type": "code",
      "metadata": {
        "id": "Q_HuD9hi3vCr",
        "colab_type": "code",
        "colab": {}
      },
      "source": [
        "result_df = result_df.append(pd.DataFrame({\n",
        "    'classifier':['MNB'],\n",
        "    'k3score':[25.61]\n",
        "}), ignore_index=True)\n",
        "result_df"
      ],
      "execution_count": null,
      "outputs": []
    },
    {
      "cell_type": "markdown",
      "metadata": {
        "id": "lmCXf9wl32Q7",
        "colab_type": "text"
      },
      "source": [
        "\n",
        "\n",
        "---\n",
        "\n",
        "**Random Forest Classifier**  \n",
        "Max Features: `sqrt` (default)  \n",
        "split: `gini` (default)"
      ]
    },
    {
      "cell_type": "code",
      "metadata": {
        "id": "fQwbFnGp34tH",
        "colab_type": "code",
        "colab": {
          "base_uri": "https://localhost:8080/",
          "height": 34
        },
        "outputId": "3b535184-d9dc-4a12-9f20-c210d3515d68"
      },
      "source": [
        "from sklearn.ensemble import RandomForestClassifier as RFC\n",
        "pipe = Pipeline([('clf',RFC())])\n",
        "params = {'clf__n_estimators':[10,20,30,50]}\n",
        "gs = GridSearchCV(pipe, param_grid = params, cv = 5)\n",
        "gs.fit(xtrain,ytrain)\n",
        "\n",
        "print(gs.best_params_)"
      ],
      "execution_count": null,
      "outputs": [
        {
          "output_type": "stream",
          "text": [
            "{'clf__n_estimators': 10}\n"
          ],
          "name": "stdout"
        }
      ]
    },
    {
      "cell_type": "code",
      "metadata": {
        "id": "iBiQr6nY4GPA",
        "colab_type": "code",
        "colab": {
          "base_uri": "https://localhost:8080/",
          "height": 34
        },
        "outputId": "90ae1a07-9524-4cd6-eac1-5f848f10bd44"
      },
      "source": [
        "rfc = RFC(n_estimators=10)\n",
        "rfc.fit(xtrain, ytrain)\n",
        "rfc.score(xtest,ytest)"
      ],
      "execution_count": null,
      "outputs": [
        {
          "output_type": "execute_result",
          "data": {
            "text/plain": [
              "0.6707317073170732"
            ]
          },
          "metadata": {
            "tags": []
          },
          "execution_count": 32
        }
      ]
    },
    {
      "cell_type": "markdown",
      "metadata": {
        "id": "Y548GrXx4bKy",
        "colab_type": "text"
      },
      "source": [
        "RFC has given a performance score of `67.07%` which is the same as that of the 2-means clustering, but not the best so far in this case, as DTC has performed better. "
      ]
    },
    {
      "cell_type": "code",
      "metadata": {
        "id": "knT88JBG4oBl",
        "colab_type": "code",
        "colab": {}
      },
      "source": [
        "result_df = result_df.append(pd.DataFrame({\n",
        "    'classifier':['RFC'],\n",
        "    'k3score':[67.07]\n",
        "}), ignore_index=True)\n",
        "result_df"
      ],
      "execution_count": null,
      "outputs": []
    },
    {
      "cell_type": "markdown",
      "metadata": {
        "id": "2FMXwIlS4m8w",
        "colab_type": "text"
      },
      "source": [
        "Let's try one last classifier:\n",
        "\n",
        "\n",
        "---\n",
        "\n",
        "\n",
        "**Support Vector Classification**  \n",
        "using Radial Basis Function (RBF) Kernel"
      ]
    },
    {
      "cell_type": "code",
      "metadata": {
        "id": "VxwMiOtA4ymU",
        "colab_type": "code",
        "colab": {
          "base_uri": "https://localhost:8080/",
          "height": 34
        },
        "outputId": "e69130f7-8174-44ad-ccb7-63fe613074a2"
      },
      "source": [
        "from sklearn.svm import SVC\n",
        "pipe = Pipeline([('clf',SVC())])\n",
        "params = {'clf__gamma':[0.5,1,2,3], 'clf__C':[1,2,3]}\n",
        "gs = GridSearchCV(pipe, param_grid = params, cv = 5)\n",
        "gs.fit(xtrain,ytrain)\n",
        "\n",
        "print(gs.best_params_)"
      ],
      "execution_count": null,
      "outputs": [
        {
          "output_type": "stream",
          "text": [
            "{'clf__C': 3, 'clf__gamma': 3}\n"
          ],
          "name": "stdout"
        }
      ]
    },
    {
      "cell_type": "code",
      "metadata": {
        "id": "eVMvS7Z8426n",
        "colab_type": "code",
        "colab": {
          "base_uri": "https://localhost:8080/",
          "height": 34
        },
        "outputId": "307f721e-ae31-44ea-ec18-39a65389246d"
      },
      "source": [
        "clf = SVC(gamma = 3, C = 3)\n",
        "clf.fit(xtrain, ytrain)\n",
        "clf.score(xtest,ytest)"
      ],
      "execution_count": null,
      "outputs": [
        {
          "output_type": "execute_result",
          "data": {
            "text/plain": [
              "0.5609756097560976"
            ]
          },
          "metadata": {
            "tags": []
          },
          "execution_count": 35
        }
      ]
    },
    {
      "cell_type": "markdown",
      "metadata": {
        "id": "MAP4z1BE48rC",
        "colab_type": "text"
      },
      "source": [
        "SVM has performed better than with 2-means clustered features, however not as well as the other classifiers with 3-means clustered features, giving a score of about `56.10%`.  "
      ]
    },
    {
      "cell_type": "code",
      "metadata": {
        "id": "3g_dt4lG6i_9",
        "colab_type": "code",
        "colab": {
          "base_uri": "https://localhost:8080/",
          "height": 266
        },
        "outputId": "6a318f3b-f1b2-4ce9-9cd4-1b5b66105119"
      },
      "source": [
        "result_df = result_df.append(pd.DataFrame({\n",
        "    'classifier':['SVM'],\n",
        "    'k3score':[56.10]\n",
        "}), ignore_index=True)\n",
        "result_df"
      ],
      "execution_count": null,
      "outputs": [
        {
          "output_type": "execute_result",
          "data": {
            "text/html": [
              "<div>\n",
              "<style scoped>\n",
              "    .dataframe tbody tr th:only-of-type {\n",
              "        vertical-align: middle;\n",
              "    }\n",
              "\n",
              "    .dataframe tbody tr th {\n",
              "        vertical-align: top;\n",
              "    }\n",
              "\n",
              "    .dataframe thead th {\n",
              "        text-align: right;\n",
              "    }\n",
              "</style>\n",
              "<table border=\"1\" class=\"dataframe\">\n",
              "  <thead>\n",
              "    <tr style=\"text-align: right;\">\n",
              "      <th></th>\n",
              "      <th>classifier</th>\n",
              "      <th>k3score</th>\n",
              "    </tr>\n",
              "  </thead>\n",
              "  <tbody>\n",
              "    <tr>\n",
              "      <th>0</th>\n",
              "      <td>ABC</td>\n",
              "      <td>47.56</td>\n",
              "    </tr>\n",
              "    <tr>\n",
              "      <th>1</th>\n",
              "      <td>DTC</td>\n",
              "      <td>68.29</td>\n",
              "    </tr>\n",
              "    <tr>\n",
              "      <th>2</th>\n",
              "      <td>GBC</td>\n",
              "      <td>62.20</td>\n",
              "    </tr>\n",
              "    <tr>\n",
              "      <th>3</th>\n",
              "      <td>KNN</td>\n",
              "      <td>63.41</td>\n",
              "    </tr>\n",
              "    <tr>\n",
              "      <th>4</th>\n",
              "      <td>MNB</td>\n",
              "      <td>25.61</td>\n",
              "    </tr>\n",
              "    <tr>\n",
              "      <th>5</th>\n",
              "      <td>RFC</td>\n",
              "      <td>67.07</td>\n",
              "    </tr>\n",
              "    <tr>\n",
              "      <th>6</th>\n",
              "      <td>SVM</td>\n",
              "      <td>56.10</td>\n",
              "    </tr>\n",
              "  </tbody>\n",
              "</table>\n",
              "</div>"
            ],
            "text/plain": [
              "  classifier  k3score\n",
              "0        ABC    47.56\n",
              "1        DTC    68.29\n",
              "2        GBC    62.20\n",
              "3        KNN    63.41\n",
              "4        MNB    25.61\n",
              "5        RFC    67.07\n",
              "6        SVM    56.10"
            ]
          },
          "metadata": {
            "tags": []
          },
          "execution_count": 36
        }
      ]
    },
    {
      "cell_type": "markdown",
      "metadata": {
        "id": "rfvG2jyT6r_0",
        "colab_type": "text"
      },
      "source": [
        "Let us save these results in the CSV file containing the results of the 2-means clustering. "
      ]
    },
    {
      "cell_type": "code",
      "metadata": {
        "id": "FtYAInPc6zEY",
        "colab_type": "code",
        "colab": {
          "base_uri": "https://localhost:8080/",
          "height": 266
        },
        "outputId": "64f71989-7e0e-4df5-dc7f-741b0597069d"
      },
      "source": [
        "results = pd.read_csv('results_cluster.csv')\n",
        "results = results.join(result_df['k3score'])\n",
        "results = results.drop(columns=['Unnamed: 0'])\n",
        "results"
      ],
      "execution_count": null,
      "outputs": [
        {
          "output_type": "execute_result",
          "data": {
            "text/html": [
              "<div>\n",
              "<style scoped>\n",
              "    .dataframe tbody tr th:only-of-type {\n",
              "        vertical-align: middle;\n",
              "    }\n",
              "\n",
              "    .dataframe tbody tr th {\n",
              "        vertical-align: top;\n",
              "    }\n",
              "\n",
              "    .dataframe thead th {\n",
              "        text-align: right;\n",
              "    }\n",
              "</style>\n",
              "<table border=\"1\" class=\"dataframe\">\n",
              "  <thead>\n",
              "    <tr style=\"text-align: right;\">\n",
              "      <th></th>\n",
              "      <th>classifier</th>\n",
              "      <th>k2score</th>\n",
              "      <th>k3score</th>\n",
              "    </tr>\n",
              "  </thead>\n",
              "  <tbody>\n",
              "    <tr>\n",
              "      <th>0</th>\n",
              "      <td>ABC</td>\n",
              "      <td>43.90</td>\n",
              "      <td>47.56</td>\n",
              "    </tr>\n",
              "    <tr>\n",
              "      <th>1</th>\n",
              "      <td>DTC</td>\n",
              "      <td>65.85</td>\n",
              "      <td>68.29</td>\n",
              "    </tr>\n",
              "    <tr>\n",
              "      <th>2</th>\n",
              "      <td>GBC</td>\n",
              "      <td>62.20</td>\n",
              "      <td>62.20</td>\n",
              "    </tr>\n",
              "    <tr>\n",
              "      <th>3</th>\n",
              "      <td>KNN</td>\n",
              "      <td>60.98</td>\n",
              "      <td>63.41</td>\n",
              "    </tr>\n",
              "    <tr>\n",
              "      <th>4</th>\n",
              "      <td>MNB</td>\n",
              "      <td>25.61</td>\n",
              "      <td>25.61</td>\n",
              "    </tr>\n",
              "    <tr>\n",
              "      <th>5</th>\n",
              "      <td>RFC</td>\n",
              "      <td>67.07</td>\n",
              "      <td>67.07</td>\n",
              "    </tr>\n",
              "    <tr>\n",
              "      <th>6</th>\n",
              "      <td>SVC</td>\n",
              "      <td>41.46</td>\n",
              "      <td>56.10</td>\n",
              "    </tr>\n",
              "  </tbody>\n",
              "</table>\n",
              "</div>"
            ],
            "text/plain": [
              "  classifier  k2score  k3score\n",
              "0        ABC    43.90    47.56\n",
              "1        DTC    65.85    68.29\n",
              "2        GBC    62.20    62.20\n",
              "3        KNN    60.98    63.41\n",
              "4        MNB    25.61    25.61\n",
              "5        RFC    67.07    67.07\n",
              "6        SVC    41.46    56.10"
            ]
          },
          "metadata": {
            "tags": []
          },
          "execution_count": 39
        }
      ]
    },
    {
      "cell_type": "code",
      "metadata": {
        "id": "TBSSahaz7ZT9",
        "colab_type": "code",
        "colab": {}
      },
      "source": [
        "results.to_csv('results_cluster.csv')"
      ],
      "execution_count": null,
      "outputs": []
    },
    {
      "cell_type": "markdown",
      "metadata": {
        "id": "Rb5rl8lp7luH",
        "colab_type": "text"
      },
      "source": [
        "Now we can run some comparisions on the results."
      ]
    }
  ]
}